{
 "cells": [
  {
   "cell_type": "markdown",
   "metadata": {},
   "source": [
    "# Recommender systems\n",
    "\n",
    "Recommendation is how we find what matters to us in a big, complicated world.  Let's figure out how to create an effective solution and what challenges present themselves."
   ]
  },
  {
   "cell_type": "markdown",
   "metadata": {},
   "source": [
    "## Collaborative filtering\n",
    "\n",
    "Collaborative filtering learns latent properties of the users and the documents.  It uses these latent properties to drive recommendations.\n",
    "\n",
    "![Collaborative filtering](collaborative_filtering.png)"
   ]
  },
  {
   "cell_type": "markdown",
   "metadata": {},
   "source": [
    "## The data\n",
    "\n",
    "Data is collected as a series of observations from the user.  Depending on how the interface is designed, the user may supply any of a variety of data forms:\n",
    "\n",
    "* binary classification (👍 / 👎) \n",
    "* multi-class classification (👍 / 😐 / 👎)\n",
    "* discrete values (1-5 stars)\n",
    "* continuous values (0.0 - 10.0 out of 10)\n",
    "* multi-label classification (love 🤩, gross 🤢, overrated 😞, etc)\n",
    "\n",
    "Taking continuous values as an example, there are two natural ways to represent and store the data: wide and long"
   ]
  },
  {
   "cell_type": "markdown",
   "metadata": {},
   "source": [
    "\n",
    "\n",
    "### Wide\n",
    "\n",
    "Ideal:\n",
    "![Reviews matrix - complete](reviews_matrix_complete.png)"
   ]
  },
  {
   "cell_type": "markdown",
   "metadata": {},
   "source": [
    "Actual:\n",
    "\n",
    "![Actual reviews matrix](reviews_matrix_sparse.png)"
   ]
  },
  {
   "cell_type": "markdown",
   "metadata": {},
   "source": [
    "There may be thousands of documents and millions of users.  A small number of rows and columns will have a lot of data, but the norm will be only a few non-empty values per row or column.\n",
    "\n",
    "We need to find a way to handle (very!) sparse data representations."
   ]
  },
  {
   "cell_type": "markdown",
   "metadata": {},
   "source": [
    "### Long\n",
    "\n",
    "Long format is a dense but highly redundant format.  A new row with the user and movie id is needed for every review.  It is the form data takes in logs and traditional (SQL) databases.  It's also a useful format for model training.\n",
    "\n",
    "![data in long form](data-long-form.png)\n"
   ]
  },
  {
   "cell_type": "markdown",
   "metadata": {},
   "source": [
    "# Singular Value Decomposition and Funk SVD"
   ]
  },
  {
   "cell_type": "markdown",
   "metadata": {},
   "source": [
    "Following this course:\n",
    "\n",
    "https://www.coursera.org/learn/matrix-factorization/lecture/K5NBy/singular-value-decomposition"
   ]
  },
  {
   "cell_type": "markdown",
   "metadata": {},
   "source": [
    "## Singular Value Decomposition (SVD)\n",
    "\n",
    "![SVD explanation](SVD_image.png)\n",
    "\n",
    "For n users and m documents.\n",
    "\n",
    "P and Q are orthogonal.  I.e. P•Q=0.\n",
    "This exists for all real matrices R."
   ]
  },
  {
   "cell_type": "markdown",
   "metadata": {},
   "source": [
    "## SVD Dimensionality\n",
    "\n",
    "\n",
    "* M is the total number of users\n",
    "* N is the total number of movies\n",
    "* K is the total latent features\n",
    "\n",
    "\n",
    "* R is MxN user-movie rating matrix\n",
    "* P is MxK user-feature affinity matrix which represents the association between users and features\n",
    "* Q is NxK item-feature relevance matrix which represents the association between movies and features\n",
    "* Σ is KxK diagonal feature weight matrix which represents the essential weights of features"
   ]
  },
  {
   "cell_type": "markdown",
   "metadata": {},
   "source": [
    "## SVD properties\n",
    "\n",
    "- SVD learns latent features.\n",
    "\n",
    "- The features are learned only from the rating data.\n",
    "\n",
    "- The features are not interpretable.  \n",
    "I.e. a single feature might be highly correlated with human-identified features (animated AND medical documentary).  Features learned will maximize predictive power from available data.\n",
    "\n",
    "- Creates a compact representation of a shared feature space.  (Shared between users and documents)."
   ]
  },
  {
   "cell_type": "markdown",
   "metadata": {},
   "source": [
    "## Calculating SVD example\n",
    "\n",
    "Okay, so that's how we can represent the data.  Now let's look in detail at how the math works by working through the example from [here](https://www.youtube.com/watch?v=cOUTpqlX-Xs).  \n",
    "\n",
    "N.B. the TA makes some mistakes which are (hopefully) corrected in this document."
   ]
  },
  {
   "cell_type": "markdown",
   "metadata": {},
   "source": [
    "Let's calculate the U, Σ, and V matrices for a simple example where R is a 2x2 matrix.\n",
    "\n",
    "$$R = \\left(\\begin{array}{cc} \n",
    "5 & 5\\\\ \n",
    "-1 & 7\n",
    "\\end{array}\\right)\n",
    "$$ "
   ]
  },
  {
   "cell_type": "markdown",
   "metadata": {},
   "source": [
    "To solve, we can make use of two relationships:\n",
    "\n",
    "$$R^T R = V \\Sigma^T \\Sigma V^T$$\n",
    "$$R V = U \\Sigma$$"
   ]
  },
  {
   "cell_type": "markdown",
   "metadata": {},
   "source": [
    "Plug in and compute $$R^T R$$\n",
    "\n",
    "$$R^T R = \n",
    "\\left(\\begin{array}{cc} \n",
    "5 & -1\\\\ \n",
    "5 & 7\n",
    "\\end{array}\\right)\n",
    "\\left(\\begin{array}{cc} \n",
    "5 & 5\\\\ \n",
    "-1 & 7\n",
    "\\end{array}\\right) = \n",
    "\\left(\\begin{array}{cc} \n",
    "26 & 18\\\\ \n",
    "18 & 74\n",
    "\\end{array}\\right)\n",
    "$$"
   ]
  },
  {
   "cell_type": "markdown",
   "metadata": {},
   "source": [
    "Σ is a diagonal matrix with decreasing values from top left to bottom right.  Since it's a diagonal matrix, this starts to look like an eigenvalue problem.."
   ]
  },
  {
   "cell_type": "markdown",
   "metadata": {},
   "source": [
    "$$det(R^T R - \\lambda I) = det\\left(\\begin{array}{cc} \n",
    "26 - \\lambda & 18\\\\ \n",
    "18 & 74 - \\lambda\n",
    "\\end{array}\\right) = 0$$"
   ]
  },
  {
   "cell_type": "markdown",
   "metadata": {},
   "source": [
    "$$0 = (26 - \\lambda)(74 - \\lambda) - 18^2 = \\lambda^2 - 100 \\lambda + 1600 = (\\lambda - 80)(\\lambda - 20)$$"
   ]
  },
  {
   "cell_type": "markdown",
   "metadata": {},
   "source": [
    "So eigenvalues are λ = 80, 20.  Let's use these to calculate our eigenvectors."
   ]
  },
  {
   "cell_type": "markdown",
   "metadata": {},
   "source": [
    "$$\\lambda_1 = 80: R^T R - \\lambda I = \n",
    "\\left(\\begin{array}{cc} \n",
    "26 & 18\\\\ \n",
    "18 & 74\n",
    "\\end{array}\\right) - \n",
    "\\left(\\begin{array}{cc} \n",
    "80 & 0\\\\ \n",
    "0 & 80\n",
    "\\end{array}\\right) =\n",
    "\\left(\\begin{array}{cc} \n",
    "-54 & 18\\\\ \n",
    "18 & -6\n",
    "\\end{array}\\right)\n",
    "$$\n",
    "\n",
    "$$\n",
    "(R^T R - \\lambda I) v_1 \\circeq 0\n",
    "$$\n",
    "\n",
    "$$\n",
    "\\hat{v_1} = \\left(\\begin{array}{cc} \n",
    "1 / \\sqrt{10}\\\\\n",
    "3 / \\sqrt{10}\n",
    "\\end{array}\\right)\n",
    "$$"
   ]
  },
  {
   "cell_type": "markdown",
   "metadata": {},
   "source": [
    "$$\\lambda_2 = 20: R^T R - \\lambda I = \n",
    "\\left(\\begin{array}{cc} \n",
    "26 & 18\\\\ \n",
    "18 & 74\n",
    "\\end{array}\\right) - \n",
    "\\left(\\begin{array}{cc} \n",
    "20 & 0\\\\ \n",
    "0 & 20\n",
    "\\end{array}\\right) =\n",
    "\\left(\\begin{array}{cc} \n",
    "6 & 18\\\\ \n",
    "18 & 54\n",
    "\\end{array}\\right)\n",
    "$$\n",
    "\n",
    "$$\n",
    "(R^T R - \\lambda I) v_2 \\circeq 0\n",
    "$$\n",
    "\n",
    "$$\n",
    "\\hat{v_2} = \\left(\\begin{array}{cc} \n",
    "-3 / \\sqrt(10)\\\\\n",
    "1 / \\sqrt(10)\n",
    "\\end{array}\\right)\n",
    "$$"
   ]
  },
  {
   "cell_type": "markdown",
   "metadata": {},
   "source": [
    "Eigenvectors are the columns of V.  Σ's diagonal values are square root of eigenvalues (in decreasing order).\n",
    "\n",
    "$$V = \\left(\\begin{array}{cc} \n",
    "1 / \\sqrt{10} & -3 / \\sqrt{10}\\\\\n",
    "3 / \\sqrt{10} & 1 / \\sqrt{10}\n",
    "\\end{array}\\right)$$\n",
    "\n",
    "\n",
    "$$Σ = \\left(\\begin{array}{cc} \n",
    "4\\sqrt{5} & 0\\\\ \n",
    "0 & 2\\sqrt{5}\n",
    "\\end{array}\\right)$$"
   ]
  },
  {
   "cell_type": "markdown",
   "metadata": {},
   "source": [
    "Okay, we're almost done!  Now we just need to calculate U.\n",
    "\n",
    "$$ R V = U \\Sigma $$ can be rewritten as $$ R V \\Sigma^{-1} = U$$"
   ]
  },
  {
   "cell_type": "markdown",
   "metadata": {},
   "source": [
    "Plug in and calculate:\n",
    "\n",
    "$$ U = \n",
    "\\left(\\begin{array}{cc} \n",
    "5 & 5\\\\ \n",
    "-1 & 7\n",
    "\\end{array}\\right)\n",
    "\\left(\\begin{array}{cc} \n",
    "1 / \\sqrt{10} & -3 / \\sqrt{10}\\\\\n",
    "3 / \\sqrt{10} & 1 / \\sqrt{10}\n",
    "\\end{array}\\right)\n",
    "\\left(\\begin{array}{cc} \n",
    "\\frac{1}{4\\sqrt{5}} & 0\\\\ \n",
    "0 & \\frac{1}{2\\sqrt{5}}\n",
    "\\end{array}\\right) =\n",
    "\\left(\\begin{array}{cc} \n",
    "\\frac{1}{\\sqrt{2}} & \\frac{-1}{\\sqrt{2}}\\\\ \n",
    "\\frac{1}{\\sqrt{2}} & \\frac{1}{\\sqrt{2}}\n",
    "\\end{array}\\right)\n",
    "$$"
   ]
  },
  {
   "cell_type": "markdown",
   "metadata": {},
   "source": [
    "As a sanity check, we can check it all programatically:"
   ]
  },
  {
   "cell_type": "code",
   "execution_count": 1,
   "metadata": {},
   "outputs": [],
   "source": [
    "import numpy as np"
   ]
  },
  {
   "cell_type": "code",
   "execution_count": 5,
   "metadata": {},
   "outputs": [],
   "source": [
    "R = np.array([[ 5.,5.],\n",
    "              [-1.,7.]])\n",
    "\n",
    "sigma = np.array([[4,0],\n",
    "                  [0, 2]]) * np.sqrt(5)\n",
    "\n",
    "V = np.array([[1,-3],\n",
    "              [3,1]]) / np.sqrt(10)\n",
    "\n",
    "U = np.array([[1,-1],\n",
    "              [1,1]]) / np.sqrt(2)"
   ]
  },
  {
   "cell_type": "code",
   "execution_count": 6,
   "metadata": {},
   "outputs": [
    {
     "name": "stdout",
     "output_type": "stream",
     "text": [
      "R:\n",
      "[[ 5.  5.]\n",
      " [-1.  7.]]\n",
      "UΣ(V.T):\n",
      "[[ 5.  5.]\n",
      " [-1.  7.]]\n"
     ]
    }
   ],
   "source": [
    "print(\"R:\")\n",
    "print(R)"
   ]
  },
  {
   "cell_type": "code",
   "execution_count": null,
   "metadata": {},
   "outputs": [],
   "source": [
    "print(\"UΣ(V.T):\")\n",
    "print(np.dot(np.dot(U, sigma), V.T))"
   ]
  },
  {
   "cell_type": "code",
   "execution_count": 7,
   "metadata": {},
   "outputs": [
    {
     "name": "stdout",
     "output_type": "stream",
     "text": [
      "Looks good!\n"
     ]
    }
   ],
   "source": [
    "assert np.allclose(R, np.dot(np.dot(U, sigma), V.T))\n",
    "\n",
    "print(\"Looks good!\")"
   ]
  },
  {
   "cell_type": "markdown",
   "metadata": {},
   "source": [
    "## Repeat for matrix of size 20M x 20K\n",
    "\n",
    "Okay, so that's what it looks like with a 2x2 matrix.  So now let's do it with a matrix that's the size of the Netflix dataset.  They have 20M users and 20K documents.\n",
    "\n",
    "... Just kidding.  That sounds hard.  \n",
    "\n",
    "Like, really hard."
   ]
  },
  {
   "cell_type": "markdown",
   "metadata": {},
   "source": [
    "# Misc, random information"
   ]
  },
  {
   "cell_type": "code",
   "execution_count": null,
   "metadata": {},
   "outputs": [],
   "source": []
  },
  {
   "cell_type": "markdown",
   "metadata": {},
   "source": [
    "# Recommender systems\n",
    "\n",
    "Recommendation is how we find what matters to us in a big, complicated world.  Let's figure out how to create an effective solution and what challenges present themselves."
   ]
  },
  {
   "cell_type": "markdown",
   "metadata": {},
   "source": [
    "Okay, so that's what it looks like with a 2x2 matrix.  So now let's do it with a matrix of 10k user reviews per movie.\n",
    "\n",
    "... Just kidding."
   ]
  },
  {
   "cell_type": "markdown",
   "metadata": {},
   "source": [
    "# SVD with singular values folded in\n",
    "\n",
    "We can fold the singular values into the U and V matrices in SVD.  From a machine learning standpoint, this is easy to train and creates two matrices with human-defined meaning.  The left matrix relates users (by row) to uninterpretted features (by column).  The second matrix has matching uninterpretted features (by row) related to documents (by column). "
   ]
  },
  {
   "cell_type": "markdown",
   "metadata": {},
   "source": [
    "![SVD with singular values folded in](svd_singular_value_folded_in.png)"
   ]
  },
  {
   "cell_type": "code",
   "execution_count": null,
   "metadata": {},
   "outputs": [],
   "source": []
  }
 ],
 "metadata": {
  "kernelspec": {
   "display_name": "Python 3",
   "language": "python",
   "name": "python3"
  },
  "language_info": {
   "codemirror_mode": {
    "name": "ipython",
    "version": 3
   },
   "file_extension": ".py",
   "mimetype": "text/x-python",
   "name": "python",
   "nbconvert_exporter": "python",
   "pygments_lexer": "ipython3",
   "version": "3.7.3"
  }
 },
 "nbformat": 4,
 "nbformat_minor": 2
}
